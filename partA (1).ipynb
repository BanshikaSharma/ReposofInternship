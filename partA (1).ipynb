{
 "cells": [
  {
   "cell_type": "code",
   "execution_count": null,
   "id": "d2cc571b-6bf6-4043-8c74-fcdbafa1d5d4",
   "metadata": {},
   "outputs": [],
   "source": [
    "Part A"
   ]
  },
  {
   "cell_type": "code",
   "execution_count": null,
   "id": "7af10252-9f90-49c8-85ea-744b5acb747d",
   "metadata": {},
   "outputs": [],
   "source": []
  },
  {
   "cell_type": "code",
   "execution_count": 1,
   "id": "04bd1589-d5aa-4a5a-877b-cffffb7410e9",
   "metadata": {},
   "outputs": [],
   "source": [
    "import re\n",
    "import nltk\n",
    "from nltk.tokenize import sent_tokenize, word_tokenize\n",
    "from nltk import pos_tag"
   ]
  },
  {
   "cell_type": "markdown",
   "id": "e894878f-59b8-4fb1-9f73-cc7a9202356d",
   "metadata": {},
   "source": [
    "Step 3: Preprocess the Text"
   ]
  },
  {
   "cell_type": "code",
   "execution_count": 2,
   "id": "ce3d45ee-1567-41d8-9119-5b0734d40eff",
   "metadata": {},
   "outputs": [
    {
     "name": "stdout",
     "output_type": "stream",
     "text": [
      "Original Text: '   Rahul wakes up early every day.   '\n",
      "Cleaned Text: 'Rahul wakes up early every day.'\n"
     ]
    }
   ],
   "source": [
    "import re\n",
    "\n",
    "def preprocess_text(text):\n",
    "    \"\"\"\n",
    "    Preprocess the input text by removing unnecessary characters\n",
    "    and standardizing the format.\n",
    "    \n",
    "    Parameters:\n",
    "    text (str): The input text to be cleaned.\n",
    "    \n",
    "    Returns:\n",
    "    str: The cleaned text.\n",
    "    \"\"\"\n",
    "    # Remove unnecessary characters and standardize the text\n",
    "    text = re.sub(r'\\s+', ' ', text)  # Replace multiple spaces with a single space\n",
    "    return text.strip()  # Remove leading and trailing spaces\n",
    "\n",
    "# Example usage\n",
    "input_text = \"   Rahul wakes up early every day.   \"\n",
    "cleaned_text = preprocess_text(input_text)\n",
    "print(f\"Original Text: '{input_text}'\")\n",
    "print(f\"Cleaned Text: '{cleaned_text}'\")"
   ]
  },
  {
   "cell_type": "markdown",
   "id": "e13a9276-4e31-4e9e-af0c-1696cb43db13",
   "metadata": {},
   "source": [
    "Visualization"
   ]
  },
  {
   "cell_type": "code",
   "execution_count": 7,
   "id": "4ee9eeb7-f369-4548-99d7-f46e2319a46c",
   "metadata": {},
   "outputs": [
    {
     "data": {
      "image/png": "[encoded data removed]",
      "text/plain": [
       "<Figure size 800x500 with 1 Axes>"
      ]
     },
     "metadata": {},
     "output_type": "display_data"
    }
   ],
   "source": [
    "import matplotlib.pyplot as plt\n",
    "\n",
    "# Example input text\n",
    "input_text = \"   Rahul wakes up early every day.   \"\n",
    "cleaned_text = preprocess_text(input_text)\n",
    "\n",
    "# Lengths of original and cleaned text\n",
    "lengths = [len(input_text), len(cleaned_text)]\n",
    "labels = ['Original Text', 'Cleaned Text']\n",
    "\n",
    "# Create a bar plot\n",
    "plt.figure(figsize=(8, 5))\n",
    "plt.bar(labels, lengths, color=['lightblue', 'lightgreen'])\n",
    "plt.title('Length of Original vs Cleaned Text')\n",
    "plt.ylabel('Length (characters)')\n",
    "plt.show()"
   ]
  },
  {
   "cell_type": "markdown",
   "id": "9a09a6ea-307f-400f-8611-8749c7ca59a1",
   "metadata": {},
   "source": [
    "Step 4: Identify Tasks"
   ]
  },
  {
   "cell_type": "code",
   "execution_count": 8,
   "id": "cbc364c3-9b4c-46db-83ab-f247d730ab44",
   "metadata": {},
   "outputs": [],
   "source": [
    "import nltk\n",
    "from nltk.tokenize import sent_tokenize\n",
    "\n",
    "def identify_tasks(text):\n",
    "    \"\"\"\n",
    "    Identify sentences that contain tasks based on specific keywords.\n",
    "    \n",
    "    Parameters:\n",
    "    text (str): The input text to analyze.\n",
    "    \n",
    "    Returns:\n",
    "    list: A list of sentences that contain tasks.\n",
    "    \"\"\"\n",
    "    # Define keywords that indicate a task\n",
    "    task_keywords = [\n",
    "        \"have to\", \"should\", \"must\", \"need to\", \"is supposed to\", \"has to\", \n",
    "        \"buy\", \"clean\", \"finish\", \"complete\"\n",
    "    ]\n",
    "    \n",
    "    # Tokenize the text into sentences\n",
    "    sentences = sent_tokenize(text)\n",
    "    tasks = []\n",
    "\n",
    "    for sentence in sentences:\n",
    "        # Check for task keywords in the sentence\n",
    "        if any(keyword in sentence for keyword in task_keywords):\n",
    "            tasks.append(sentence)\n",
    "\n",
    "    return tasks"
   ]
  },
  {
   "cell_type": "code",
   "execution_count": 9,
   "id": "553d7544-4ec7-4d50-89ac-a1a7daa50c56",
   "metadata": {},
   "outputs": [
    {
     "name": "stdout",
     "output_type": "stream",
     "text": [
      "Identified Tasks: ['Rahul has to buy snacks.']\n"
     ]
    }
   ],
   "source": [
    "def identify_tasks(text):\n",
    "    task_keywords = [\n",
    "        \"have to\", \"should\", \"must\", \"need to\", \"is supposed to\", \"has to\", \n",
    "        \"buy\", \"clean\", \"finish\", \"complete\"\n",
    "    ]\n",
    "    sentences = sent_tokenize(text)\n",
    "    tasks = []\n",
    "\n",
    "    for sentence in sentences:\n",
    "        if any(keyword in sentence for keyword in task_keywords):\n",
    "            tasks.append(sentence)\n",
    "\n",
    "    return tasks\n",
    "\n",
    "# Example usage\n",
    "text = \"Rahul has to buy snacks. He goes to college.\"\n",
    "tasks = identify_tasks(text)\n",
    "print(\"Identified Tasks:\", tasks)"
   ]
  },
  {
   "cell_type": "markdown",
   "id": "6e82d211-797e-4dcf-87d7-02fa27000d1d",
   "metadata": {},
   "source": [
    "Visualization"
   ]
  },
  {
   "cell_type": "code",
   "execution_count": 10,
   "id": "2873286b-79be-4622-85f7-a6cbdf59f628",
   "metadata": {},
   "outputs": [
    {
     "data": {
      "image/png": "[encoded data removed]",
      "text/plain": [
       "<Figure size 800x500 with 1 Axes>"
      ]
     },
     "metadata": {},
     "output_type": "display_data"
    }
   ],
   "source": [
    "# Example text\n",
    "text = \"Rahul has to buy snacks. He goes to college.\"\n",
    "\n",
    "# Identify tasks\n",
    "tasks = identify_tasks(text)\n",
    "\n",
    "# Count sentences and tasks\n",
    "num_sentences = len(sent_tokenize(text))\n",
    "num_tasks = len(tasks)\n",
    "\n",
    "# Create a bar plot\n",
    "plt.figure(figsize=(8, 5))\n",
    "plt.bar(['Total Sentences', 'Identified Tasks'], [num_sentences, num_tasks], color=['lightblue', 'lightcoral'])\n",
    "plt.title('Number of Sentences vs Identified Tasks')\n",
    "plt.ylabel('Count')\n",
    "plt.show()"
   ]
  },
  {
   "cell_type": "markdown",
   "id": "abcda22e-e25d-44ff-abe2-ceeb4215fde1",
   "metadata": {},
   "source": [
    "Step 5: Extract Entities"
   ]
  },
  {
   "cell_type": "code",
   "execution_count": 4,
   "id": "7a9d0308-8ee3-469d-a2ca-54a1cae0aee9",
   "metadata": {},
   "outputs": [],
   "source": [
    "import re\n",
    "from nltk.tokenize import word_tokenize\n",
    "from nltk import pos_tag\n",
    "\n",
    "def extract_entities(task):\n",
    "    \"\"\"\n",
    "    Extract entities (who and when) from the identified task.\n",
    "    \n",
    "    Parameters:\n",
    "    task (str): The task sentence to analyze.\n",
    "    \n",
    "    Returns:\n",
    "    dict: A dictionary containing the 'who' and 'when' entities.\n",
    "    \"\"\"\n",
    "    # Simple heuristic to extract entities (who and when)\n",
    "    entities = {\n",
    "        \"who\": None,\n",
    "        \"when\": None\n",
    "    }\n",
    "    \n",
    "    # Tokenize and tag parts of speech\n",
    "    words = word_tokenize(task)\n",
    "    tagged = pos_tag(words)\n",
    "\n",
    "    # Extract the subject (who) - assuming the first noun or pronoun is the subject\n",
    "    for word, tag in tagged:\n",
    "        if tag in ['NNP', 'NN', 'PRP']:  # Proper Noun, Noun, Pronoun\n",
    "            entities[\"who\"] = word\n",
    "            break\n",
    "\n",
    "    # Look for time expressions (when)\n",
    "    time_pattern = r'\\b(by|before|after|at|on|in|tomorrow|today|next|last)\\s+\\w+\\s*(\\d{1,2}:\\d{2}|\\d{1,2})?\\b'\n",
    "    time_matches = re.findall(time_pattern, task)\n",
    "    if time_matches:\n",
    "        entities[\"when\"] = ' '.join(time_matches[0])\n",
    "\n",
    "    return entities"
   ]
  },
  {
   "cell_type": "code",
   "execution_count": 11,
   "id": "7045429f-f323-4e8a-8c4d-8778d3bc449c",
   "metadata": {},
   "outputs": [
    {
     "name": "stdout",
     "output_type": "stream",
     "text": [
      "Extracted Entities: {'who': 'Rahul', 'when': 'by '}\n"
     ]
    }
   ],
   "source": [
    "def extract_entities(task):\n",
    "    entities = {\n",
    "        \"who\": None,\n",
    "        \"when\": None\n",
    "    }\n",
    "    \n",
    "    words = word_tokenize(task)\n",
    "    tagged = pos_tag(words)\n",
    "\n",
    "    for word, tag in tagged:\n",
    "        if tag in ['NNP', 'NN', 'PRP']:  # Proper Noun, Noun, Pronoun\n",
    "            entities[\"who\"] = word\n",
    "            break\n",
    "\n",
    "    time_pattern = r'\\b(by|before|after|at|on|in|tomorrow|today|next|last)\\s+\\w+\\s*(\\d{1,2}:\\d{2}|\\d{1,2})?\\b'\n",
    "    time_matches = re.findall(time_pattern, task)\n",
    "    if time_matches:\n",
    "        entities[\"when\"] = ' '.join(time_matches[0])\n",
    "\n",
    "    return entities\n",
    "\n",
    "# Example usage\n",
    "task = \"Rahul should clean the room by 5 pm today.\"\n",
    "entities = extract_entities(task)\n",
    "print(\"Extracted Entities:\", entities)"
   ]
  },
  {
   "cell_type": "markdown",
   "id": "e600da54-0bce-487a-983b-faa86ecd6360",
   "metadata": {},
   "source": [
    "Visualization"
   ]
  },
  {
   "cell_type": "code",
   "execution_count": null,
   "id": "a2b1f841-1e90-417f-89ae-8199bf12134f",
   "metadata": {},
   "outputs": [],
   "source": [
    "# Example task\n",
    "task = \"Rahul should clean the room by 5 pm today.\"\n",
    "entities = extract_entities(task)\n",
    "\n",
    "# Count entities\n",
    "num_entities = sum(1 for value in entities.values() if value is not None)\n",
    "\n",
    "# Create a bar plot\n",
    "plt.figure(figsize=(8, 5))\n",
    "plt.bar(['Extracted Entities'], [num_entities], color='lightblue')\n",
    "plt.title('Number of Extracted Entities from Task')\n",
    "plt.ylabel('Count')\n",
    "plt.show()"
   ]
  },
  {
   "cell_type": "markdown",
   "id": "05d70aeb-2b98-4479-a857-1f25497f03df",
   "metadata": {},
   "source": [
    "Step 6: Extract Tasks from Text"
   ]
  },
  {
   "cell_type": "code",
   "execution_count": 14,
   "id": "59117721-ce3f-4598-a72a-b75b2214ee9b",
   "metadata": {},
   "outputs": [],
   "source": [
    "def extract_tasks_from_text(text):\n",
    "    \"\"\"\n",
    "    Extract tasks and their associated entities from the input text.\n",
    "    \n",
    "    Parameters:\n",
    "    text (str): The input text to analyze.\n",
    "    \n",
    "    Returns:\n",
    "    list: A list of dictionaries containing tasks and their entities.\n",
    "    \"\"\"\n",
    "    # Preprocess the text\n",
    "    cleaned_text = preprocess_text(text)\n",
    "    \n",
    "    # Identify tasks\n",
    "    tasks = identify_tasks(cleaned_text)\n",
    "    \n",
    "    # Extract entities for each task\n",
    "    extracted_info = []\n",
    "    for task in tasks:\n",
    "        entities = extract_entities(task)\n",
    "        extracted_info.append({\n",
    "            \"task\": task,\n",
    "            \"who\": entities[\"who\"],\n",
    "            \"when\": entities[\"when\"]\n",
    "        })\n",
    "    \n",
    "    return extracted_info"
   ]
  },
  {
   "cell_type": "code",
   "execution_count": 6,
   "id": "1ca6ca49-a7cc-47ac-8f8a-25f506f43c90",
   "metadata": {},
   "outputs": [
    {
     "name": "stdout",
     "output_type": "stream",
     "text": [
      "Task: He has to buy the snacks for all of us.\n",
      "Who: He\n",
      "When: None\n",
      "-----\n",
      "Task: Rahul should clean the room by 5 pm today.\n",
      "Who: Rahul\n",
      "When: by \n",
      "-----\n"
     ]
    }
   ],
   "source": [
    "# Example input text\n",
    "input_text = \"\"\"\n",
    "Rahul wakes up early every day. He goes to college in the morning and comes back at 3 pm. \n",
    "At present, Rahul is outside. He has to buy the snacks for all of us. \n",
    "Rahul should clean the room by 5 pm today.\n",
    "\"\"\"\n",
    "\n",
    "# Extract tasks from the input text\n",
    "tasks_info = extract_tasks_from_text(input_text)\n",
    "\n",
    "# Display the extracted tasks\n",
    "for info in tasks_info:\n",
    "    print(f\"Task: {info['task']}\")\n",
    "    print(f\"Who: {info['who']}\")\n",
    "    print(f\"When: {info['when']}\")\n",
    "    print(\"-----\")"
   ]
  },
  {
   "cell_type": "markdown",
   "id": "0c13bdfe-5f52-4ea3-8386-a6b5bca5adc7",
   "metadata": {},
   "source": [
    "Visualization"
   ]
  },
  {
   "cell_type": "code",
   "execution_count": 16,
   "id": "44c1850a-38e6-43c6-bc09-fd1a624697c9",
   "metadata": {},
   "outputs": [
    {
     "data": {
      "image/png": "[encoded data removed]",
      "text/plain": [
       "<Figure size 800x500 with 1 Axes>"
      ]
     },
     "metadata": {},
     "output_type": "display_data"
    }
   ],
   "source": [
    "# Example input text\n",
    "input_text = \"\"\"\n",
    "Rahul has to buy the snacks for all of us. \n",
    "Rahul should clean the room by 5 pm today.\n",
    "\"\"\"\n",
    "\n",
    "# Extract tasks from the input text\n",
    "tasks_info = extract_tasks_from_text(input_text)\n",
    "\n",
    "# Count tasks\n",
    "num_extracted_tasks = len(tasks_info)\n",
    "\n",
    "# Create a bar plot\n",
    "plt.figure(figsize=(8, 5))\n",
    "plt.bar(['Extracted Tasks'], [num_extracted_tasks], color='lightgreen')\n",
    "plt.title('Number of Extracted Tasks from Text')\n",
    "plt.ylabel('Count')\n",
    "plt.show()"
   ]
  },
  {
   "cell_type": "code",
   "execution_count": null,
   "id": "a9a23af2-a416-4846-bd02-7cb6243deb94",
   "metadata": {},
   "outputs": [],
   "source": []
  }
 ],
 "metadata": {
  "kernelspec": {
   "display_name": "Python 3 (ipykernel)",
   "language": "python",
   "name": "python3"
  },
  "language_info": {
   "codemirror_mode": {
    "name": "ipython",
    "version": 3
   },
   "file_extension": ".py",
   "mimetype": "text/x-python",
   "name": "python",
   "nbconvert_exporter": "python",
   "pygments_lexer": "ipython3",
   "version": "3.12.4"
  }
 },
 "nbformat": 4,
 "nbformat_minor": 5
}
